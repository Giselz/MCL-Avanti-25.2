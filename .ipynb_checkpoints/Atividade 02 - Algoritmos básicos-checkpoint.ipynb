{
 "cells": [
  {
   "cell_type": "markdown",
   "metadata": {},
   "source": [
    "# CURSO: <BÁSICO EM MACHINE LEARNING>"
   ]
  },
  {
   "cell_type": "markdown",
   "metadata": {},
   "source": [
    "## Atividade 02 (ATIV-02)"
   ]
  },
  {
   "cell_type": "markdown",
   "metadata": {},
   "source": [
    "### Tema: Algoritmos básicos de programação em linguagem python e análise de dados.\n"
   ]
  },
  {
   "cell_type": "markdown",
   "metadata": {},
   "source": [
    "##### 1. Escreva uma função que receba uma lista de números e retorne outra lista com os números ímpares.\n"
   ]
  },
  {
   "cell_type": "code",
   "execution_count": 5,
   "metadata": {},
   "outputs": [
    {
     "name": "stdout",
     "output_type": "stream",
     "text": [
      "Digite um número: 5\n",
      "O número 5 é ímpar!\n"
     ]
    }
   ],
   "source": [
    "num = int(input(\"Digite um número: \"))\n",
    "\n",
    "if num % 2 == 0:\n",
    "  print(f\"O número {num} é par!\")\n",
    "else:\n",
    "  print(f\"O número {num} é ímpar!\")"
   ]
  },
  {
   "cell_type": "markdown",
   "metadata": {},
   "source": [
    "##### 2. Escreva uma função que receba uma lista de números e retorne outra lista com os números primos presentes.\n"
   ]
  },
  {
   "cell_type": "code",
   "execution_count": 10,
   "metadata": {},
   "outputs": [
    {
     "name": "stdout",
     "output_type": "stream",
     "text": [
      "Digite uma lista de números separados por espaço: 45 7 6 3 \n",
      "Números primos na lista: [7, 3]\n"
     ]
    }
   ],
   "source": [
    "lista_num = input(\"Digite uma lista de números separados por espaço: \")\n",
    "\n",
    "lista_num = [int(n) for n in lista_num.split()]\n",
    "\n",
    "primos = []\n",
    "\n",
    "for num in lista_num:\n",
    "    if num < 2:\n",
    "        continue\n",
    "        \n",
    "    e_primo = True\n",
    "    for i in range(2, num):\n",
    "        if num % i == 0:\n",
    "            e_primo = False\n",
    "            break\n",
    "    \n",
    "    if e_primo:\n",
    "        primos.append(num)\n",
    "\n",
    "print(\"Números primos na lista:\", primos)"
   ]
  },
  {
   "cell_type": "markdown",
   "metadata": {},
   "source": [
    "##### 3. Escreva uma função que receba duas listas e retorne outra lista com os elementos que estão presentes em apenas uma das listas."
   ]
  },
  {
   "cell_type": "code",
   "execution_count": 11,
   "metadata": {},
   "outputs": [
    {
     "name": "stdout",
     "output_type": "stream",
     "text": [
      "Digite os elementos da primeira lista, separados por espaço: 5 6 3 44 5 90 2 0\n",
      "Digite os elementos da segunda lista, separados por espaço: 5 7 8 6 2 5 1 55 3 6 \n",
      "Elementos presentes em apenas uma das listas: [44, 90, 0, 7, 8, 1, 55]\n"
     ]
    }
   ],
   "source": [
    "lista1 = input(\"Digite os elementos da primeira lista, separados por espaço: \")\n",
    "lista2 = input(\"Digite os elementos da segunda lista, separados por espaço: \")\n",
    "\n",
    "lista1 = [int(n) for n in lista1.split()]\n",
    "lista2 = [int(n) for n in lista2.split()]\n",
    "\n",
    "resultado = []\n",
    "\n",
    "for num in lista1:\n",
    "    if num not in lista2 and num not in resultado:\n",
    "        resultado.append(num)\n",
    "        \n",
    "for num in lista2:\n",
    "    if num not in lista1 and num not in resultado:\n",
    "        resultado.append(num)\n",
    "        \n",
    "print(\"Elementos presentes em apenas uma das listas:\", resultado)"
   ]
  },
  {
   "cell_type": "markdown",
   "metadata": {},
   "source": [
    "##### 4. Dada uma lista de números inteiros, escreva uma função para encontrar o segundo maior valor na lista.\n"
   ]
  },
  {
   "cell_type": "code",
   "execution_count": 12,
   "metadata": {},
   "outputs": [
    {
     "name": "stdout",
     "output_type": "stream",
     "text": [
      "Digite uma lista de números inteiros separados por espaço: 4 5 6 2 0 78 9 3 5 020 56 444\n",
      "O segundo maior valor na lista é: 78\n"
     ]
    }
   ],
   "source": [
    "numeros = input(\"Digite uma lista de números inteiros separados por espaço: \")\n",
    "\n",
    "numeros = [int(n) for n in numeros.split()]\n",
    "\n",
    "if len(numeros) < 2:\n",
    "    print(\"A lista precisa ter pelo menos dois números.\")\n",
    "else:\n",
    "    maior = None\n",
    "    segundo_maior = None\n",
    "    \n",
    "    for num in numeros:\n",
    "        if maior is None or num > maior:\n",
    "            segundo_maior = maior\n",
    "            maior = num\n",
    "        elif num != maior and (segundo_maior is None or num > segundo_maior):\n",
    "            segundo_maior = num\n",
    "            \n",
    "    if segundo_maior is not None:\n",
    "        print(f\"O segundo maior valor na lista é: {segundo_maior}\")\n",
    "    else:\n",
    "        print(\"Não foi possível encontrar um segundo maior valor (talvez todos os números sejam iguais).\")"
   ]
  },
  {
   "cell_type": "markdown",
   "metadata": {},
   "source": [
    "##### 5. Crie uma função que receba uma lista de tuplas, cada uma contendo o nome e a idade de uma pessoa, e retorne a lista ordenada pelo nome das pessoas em ordem alfabética.\n"
   ]
  },
  {
   "cell_type": "code",
   "execution_count": 15,
   "metadata": {},
   "outputs": [
    {
     "name": "stdout",
     "output_type": "stream",
     "text": [
      "Quantas pessoas você quer adicionar? 3\n",
      "Digite o nome da pessoa 1: ana\n",
      "Digite a idade de ana: 50\n",
      "Digite o nome da pessoa 2: zico\n",
      "Digite a idade de zico: 3\n",
      "Digite o nome da pessoa 3: sasa\n",
      "Digite a idade de sasa: 20\n",
      "\n",
      "Lista ordenada por nome:\n",
      "Nome: ana, Idade: 50\n",
      "Nome: sasa, Idade: 20\n",
      "Nome: zico, Idade: 3\n"
     ]
    }
   ],
   "source": [
    "quantidade = int(input(\"Quantas pessoas você quer adicionar? \"))\n",
    "\n",
    "pessoas = []\n",
    "\n",
    "for i in range(quantidade):\n",
    "    nome = input(f\"Digite o nome da pessoa {i+1}: \")\n",
    "    idade = int(input(f\"Digite a idade de {nome}: \"))\n",
    "    pessoas.append((nome, idade))\n",
    "\n",
    "for i in range(len(pessoas)):\n",
    "    for j in range(i + 1, len(pessoas)):\n",
    "        if pessoas[i][0].lower() > pessoas[j][0].lower():\n",
    "            pessoas[i], pessoas[j] = pessoas[j], pessoas[i]\n",
    "\n",
    "print(\"\\nLista ordenada por nome:\")\n",
    "for pessoa in pessoas:\n",
    "    print(f\"Nome: {pessoa[0]}, Idade: {pessoa[1]}\")\n"
   ]
  },
  {
   "cell_type": "markdown",
   "metadata": {},
   "source": [
    "##### 8. Utilizando pandas, como realizar a leitura de um arquivo CSV em um DataFrame e exibir as primeiras linhas?"
   ]
  },
  {
   "cell_type": "code",
   "execution_count": 18,
   "metadata": {},
   "outputs": [
    {
     "name": "stdout",
     "output_type": "stream",
     "text": [
      "    Nome  Idade     Cidade\n",
      "0    Ana     25  Fortaleza\n",
      "1   João     30  São Paulo\n",
      "2  Maria     28     Recife\n"
     ]
    }
   ],
   "source": [
    "import pandas as pd\n",
    "\n",
    "dados = {\n",
    "    'Nome': ['Ana', 'João', 'Maria'],\n",
    "    'Idade': [25, 30, 28],\n",
    "    'Cidade': ['Fortaleza', 'São Paulo', 'Recife']\n",
    "}\n",
    "\n",
    "df = pd.DataFrame(dados)\n",
    "\n",
    "print(df)\n",
    "\n",
    "df.to_csv('questao-8.csv', index=False)\n"
   ]
  },
  {
   "cell_type": "code",
   "execution_count": 19,
   "metadata": {},
   "outputs": [
    {
     "name": "stdout",
     "output_type": "stream",
     "text": [
      "    Nome  Idade     Cidade\n",
      "0    Ana     25  Fortaleza\n",
      "1   João     30  São Paulo\n",
      "2  Maria     28     Recife\n"
     ]
    }
   ],
   "source": [
    "df = pd.read_csv('questao-8.csv')\n",
    "\n",
    "print(df.head())"
   ]
  },
  {
   "cell_type": "markdown",
   "metadata": {},
   "source": [
    "##### 9. Utilizando pandas, como selecionar uma coluna específica e filtrar linhas em um “DataFrame” com base em uma condição?"
   ]
  },
  {
   "cell_type": "code",
   "execution_count": 20,
   "metadata": {},
   "outputs": [
    {
     "name": "stdout",
     "output_type": "stream",
     "text": [
      "Coluna 'Idade':\n",
      "0    25\n",
      "1    30\n",
      "2    28\n",
      "Name: Idade, dtype: int64\n",
      "\n",
      "Pessoas com idade maior que 25:\n",
      "    Nome  Idade     Cidade\n",
      "1   João     30  São Paulo\n",
      "2  Maria     28     Recife\n"
     ]
    }
   ],
   "source": [
    "import pandas as pd\n",
    "\n",
    "df = pd.DataFrame(dados)\n",
    "\n",
    "coluna_idade = df['Idade']\n",
    "print(\"Coluna 'Idade':\")\n",
    "print(coluna_idade)\n",
    "\n",
    "filtro_idade = df[df['Idade'] > 25]\n",
    "print(\"\\nPessoas com idade maior que 25:\")\n",
    "print(filtro_idade)\n"
   ]
  }
 ],
 "metadata": {
  "kernelspec": {
   "display_name": "Python 3",
   "language": "python",
   "name": "python3"
  },
  "language_info": {
   "codemirror_mode": {
    "name": "ipython",
    "version": 3
   },
   "file_extension": ".py",
   "mimetype": "text/x-python",
   "name": "python",
   "nbconvert_exporter": "python",
   "pygments_lexer": "ipython3",
   "version": "3.8.5"
  }
 },
 "nbformat": 4,
 "nbformat_minor": 4
}
